{
 "cells": [
  {
   "cell_type": "markdown",
   "metadata": {},
   "source": [
    "# [ATM 623: Climate Modeling](index.ipynb)\n",
    "\n",
    "A graduate-level course on the hands-on use of climate models for understanding climate processes.\n",
    "\n",
    "### [Brian E. J. Rose](http://www.atmos.albany.edu/facstaff/brose/index.html)\n",
    "University at Albany, Department of Atmospheric and Environmental Sciences\n",
    "\n",
    "\n",
    "[Course home page](http://www.atmos.albany.edu/facstaff/brose/classes/ATM623_Spring2017/)"
   ]
  },
  {
   "cell_type": "markdown",
   "metadata": {},
   "source": [
    "## Warning: content out of date and not maintained\n",
    "\n",
    "You really should be looking at [The Climate Laboratory book](https://brian-rose.github.io/ClimateLaboratoryBook) by Brian Rose, where all the same content (and more!) is kept up to date.\n",
    "\n",
    "***Here you are likely to find broken links and broken code.***"
   ]
  },
  {
   "cell_type": "markdown",
   "metadata": {},
   "source": [
    "### About these notes:\n",
    "\n",
    "This document uses the interactive [`Jupyter notebook`](https://jupyter.org) format. The notes can be accessed in several different ways:\n",
    "\n",
    "- The interactive notebooks are hosted on `github` at https://github.com/brian-rose/ClimateModeling_courseware\n",
    "- The latest versions can be viewed as static web pages [rendered on nbviewer](http://nbviewer.ipython.org/github/brian-rose/ClimateModeling_courseware/blob/master/index.ipynb)\n",
    "- A complete snapshot of the notes as of May 2017 (end of spring semester) are [available on Brian's website](http://www.atmos.albany.edu/facstaff/brose/classes/ATM623_Spring2017/Notes/index.html).\n",
    "\n",
    "[Also here is a legacy version from 2015](http://www.atmos.albany.edu/facstaff/brose/classes/ATM623_Spring2015/Notes/index.html).\n",
    "\n",
    "Many of these notes make use of the `climlab` package, available at https://github.com/brian-rose/climlab"
   ]
  },
  {
   "cell_type": "markdown",
   "metadata": {},
   "source": [
    "This page is the top-level notebook with links to all notes and assignments."
   ]
  },
  {
   "cell_type": "markdown",
   "metadata": {},
   "source": [
    "## Lecture notes\n",
    "\n",
    "1. [Planetary energy budget](Lectures/Lecture01 -- Planetary energy budget.ipynb)\n",
    "2. [Solving the zero-dimensional EBM](Lectures/Lecture02 -- Solving the zero-dimensional EBM.ipynb)\n",
    "3. [Climate Sensitivity and Feedback](Lectures/Lecture03 -- Climate sensitivity and feedback.ipynb)\n",
    "4. [Intro to CLIMLAB](Lectures/Lecture04 -- Intro to CLIMLAB.ipynb)\n",
    "5. [The climate system and climate models](Lectures/Lecture05 -- Climate system and climate models.ipynb)\n",
    "6. [A Brief Review of Radiation](Lectures/Lecture06 -- Radiation.ipynb)\n",
    "7. [Elementary greenhouse models](Lectures/Lecture07 -- Elementary greenhouse models.ipynb)\n",
    "8. [Grey radiation modeling with climlab](Lectures/Lecture08 -- Grey radiation modeling with climlab.ipynb)\n",
    "9. [Modeling non-scattering radiative transfer](Lectures/Lecture09 -- Modeling non-scattering radiative transfer.ipynb)\n",
    "10. [Who needs spectral bands? We do. Some baby steps...](Lectures/Lecture10 -- Who needs spectral bands.ipynb)\n",
    "11. [Radiative-Convective Equilibrium](Lectures/Lecture11 -- Radiative-Convective Equilibrium.ipynb)\n",
    "12. [Transient and equilibrium response to CO2 in the CESM](Lectures/Lecture12 -- CESM climate sensitivity.ipynb)\n",
    "13. [Toy models of transient warming](Lectures/Lecture13 -- TransientWarming.ipynb)\n",
    "14. [Clouds and cloud feedback](Lectures/Lecture14 -- Clouds and cloud feedback.ipynb)\n",
    "15. [Insolation](Lectures/Lecture15 -- Insolation.ipynb)\n",
    "16. [Orbital variations, insolation, and the ice ages](Lectures/Lecture16 -- Orbital variations.ipynb)\n",
    "17. [Heat transport](Lectures/Lecture17 -- Heat transport.ipynb)\n",
    "18. [The one-dimensional energy balance model](Lectures/Lecture18 -- Diffusive energy balance model.ipynb)\n",
    "19. [Seasonal cycle and heat capacity](Lectures/Lecture19 -- Seasonal cycle and heat capacity.ipynb)\n",
    "20. [A peak at numerical methods for diffusion models](Lectures/Lecture20 -- Numerical methods for diffusion models.ipynb)\n",
    "21. [Ice albedo feedback in the EBM](Lectures/Lecture21 -- Ice albedo feedback in the EBM.ipynb)\n",
    "22. [Snowball Earth and Large Ice Cap Instability in the EBM](Lectures/Lecture22 -- Snowball Earth in the EBM.ipynb)\n",
    "23. [The surface energy balance](Lectures/Lecture23 -- The surface energy balance.ipynb)\n",
    "24. [Land-ocean contrasts under climate change](Lectures/Lecture24 -- LandOcean.ipynb)\n",
    "25. [Water, water everywhere](Lectures/Lecture25 -- Water, water everywhere!.ipynb)"
   ]
  },
  {
   "cell_type": "markdown",
   "metadata": {},
   "source": [
    "## Assignments\n",
    "\n",
    "1. [Feedback in the zero-dimensional EBM](Assignments/Assignment01 -- Feedback in the zero-dimensional EBM.ipynb)\n",
    "2. [Introducing CESM](Assignments/Assignment02 -- Introducing CESM.ipynb)\n",
    "3. [Energy budget in CESM](Assignments/Assignment03 -- Energy budget in CESM.ipynb)\n",
    "4. [Radiative forcing in a grey radiation atmosphere](Assignments/Assignment04 -- Radiative forcing in a grey radiation atmosphere.ipynb)\n",
    "5. [Height-Dependent Water Vapor Changes](Assignments/Assignment05 -- Height-Dependent Water Vapor Changes.ipynb)\n",
    "6. [Orbital variations and insolation](Assignments/Assignment06 -- Orbital variations and insolation.ipynb)\n",
    "7. Numerical solution of the diffusion equation using the implicit method (see end of [Lecture 17](Lectures/Lecture16 -- Numerical methods for diffusion models.ipynb))"
   ]
  },
  {
   "cell_type": "markdown",
   "metadata": {},
   "source": [
    "____________\n",
    "\n",
    "\n",
    "## Dependencies and installation\n",
    "\n",
    "These notebooks use the following packages:\n",
    "\n",
    "- Python (compatible with Python 2 and 3)\n",
    "- numpy  (array-based numerical computing)\n",
    "- scipy  (specialized numerical recipes)\n",
    "- matplotlib (graphics and animation)\n",
    "- xarray (labeled datasets)\n",
    "- sympy (symbolic math)\n",
    "- climlab (climate modeling engine)\n",
    "- ffmpeg (video conversion tool used under-the-hood for interactive animations)\n",
    "- version_information (display information about package version)\n",
    "\n",
    "We highly recommend using [Anaconda Python](https://www.continuum.io/downloads). For example, the following commands will create a self-contained [conda environment](https://conda.io/docs/using/envs.html) with everything you need to run these notebooks (Mac, Linux and Windows):\n",
    "\n",
    "```\n",
    "conda config --add channels conda-forge\n",
    "conda create --name atm623 python jupyter xarray sympy climlab version_information ffmpeg\n",
    "```"
   ]
  },
  {
   "cell_type": "markdown",
   "metadata": {},
   "source": [
    "____________\n",
    "\n",
    "## Credits\n",
    "\n",
    "The author of this notebook is [Brian E. J. Rose](http://www.atmos.albany.edu/facstaff/brose/index.html), University at Albany.\n",
    "\n",
    "It was developed in support of [ATM 623: Climate Modeling](http://www.atmos.albany.edu/facstaff/brose/classes/ATM623_Spring2015/), a graduate-level course in the [Department of Atmospheric and Envionmental Sciences](http://www.albany.edu/atmos/index.php)\n",
    "\n",
    "Development of these notes and the [climlab software](https://github.com/brian-rose/climlab) is partially supported by the National Science Foundation under award AGS-1455071 to Brian Rose. Any opinions, findings, conclusions or recommendations expressed here are mine and do not necessarily reflect the views of the National Science Foundation.\n",
    "____________"
   ]
  },
  {
   "cell_type": "code",
   "execution_count": null,
   "metadata": {
    "collapsed": true
   },
   "outputs": [],
   "source": []
  }
 ],
 "metadata": {
  "anaconda-cloud": {},
  "kernelspec": {
   "display_name": "Python 3",
   "language": "python",
   "name": "python3"
  },
  "language_info": {
   "codemirror_mode": {
    "name": "ipython",
    "version": 3
   },
   "file_extension": ".py",
   "mimetype": "text/x-python",
   "name": "python",
   "nbconvert_exporter": "python",
   "pygments_lexer": "ipython3",
   "version": "3.8.1"
  }
 },
 "nbformat": 4,
 "nbformat_minor": 1
}
